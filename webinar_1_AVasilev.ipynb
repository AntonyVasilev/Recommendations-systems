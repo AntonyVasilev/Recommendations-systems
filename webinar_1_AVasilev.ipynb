{
 "cells": [
  {
   "cell_type": "markdown",
   "metadata": {},
   "source": [
    "### Домашняя работа к уроку 1"
   ]
  },
  {
   "cell_type": "code",
   "execution_count": 11,
   "metadata": {},
   "outputs": [],
   "source": [
    "import numpy as np"
   ]
  },
  {
   "cell_type": "markdown",
   "metadata": {},
   "source": [
    "**1) Приведите еще примеры метрик для оценки рекомендаций/ранжирования (можно взять из интернета, или ваши знания)**"
   ]
  },
  {
   "cell_type": "code",
   "execution_count": 3,
   "metadata": {},
   "outputs": [],
   "source": [
    "recommended_list = [143, 156, 1134, 991, 27, 1543, 3345, 533, 11, 43] #id товаров\n",
    "bought_list = [521, 32, 143, 991]"
   ]
  },
  {
   "cell_type": "markdown",
   "metadata": {},
   "source": [
    "1. Expected reciprocal rank (ERR)  \n",
    "$$ERR@K = \\sum_{k=1}^{K} \\frac{1}{k} \\cdot p_k \\prod_{i=1}^{k-1} (1-p_i)$$\n",
    "Т.к. $r^{true} \\in \\{0; 1\\}$, то $p = [bought fact]$"
   ]
  },
  {
   "cell_type": "code",
   "execution_count": 12,
   "metadata": {},
   "outputs": [],
   "source": [
    "def err_at_k(recommended_list, bought_list, k=5):\n",
    "    recommended_list = np.flip(np.array(recommended_list)[:k])\n",
    "    bought_list = np.array(bought_list)\n",
    "\n",
    "    p_stop = []\n",
    "    flags = np.isin(recommended_list, bought_list)\n",
    "    p_stop.append(1 * flags[0])  # добавляю 1-й элемент\n",
    "    opposite_p = [1 - p*1 for p in flags]\n",
    "    for i in range(1, k):\n",
    "        p_stop.append(flags[i] * np.prod(np.array(opposite_p[:i])))\n",
    "    err_list = [(1 / (j + 1)) * p_stop[j] for j in range(k)]\n",
    "    return sum(err_list)"
   ]
  },
  {
   "cell_type": "code",
   "execution_count": 13,
   "metadata": {},
   "outputs": [
    {
     "data": {
      "text/plain": [
       "0.5"
      ]
     },
     "execution_count": 13,
     "metadata": {},
     "output_type": "execute_result"
    }
   ],
   "source": [
    "err_at_k(recommended_list, bought_list)"
   ]
  },
  {
   "cell_type": "markdown",
   "metadata": {},
   "source": [
    "2. PFound\n",
    "$$PFound@K=\\sum_{k=1}^{K} pLook(k) \\cdot pRel(K),$$\n",
    "где:  \n",
    "$pLook(k)=pLook(k-1)(1-pRel(k-1))(1-pBreake)$  \n",
    "$pRel(k)$ - вероятность того, что k-й документ окажется релевантным  \n",
    "$pBreake$ - вероятность того, что пользователь прекратит просмотр по внешним причинам  \n",
    "\n",
    "В статье Яндекс, описывающей данную метрику указано, что они брали значение $pBreake=0.15$. Для своего расчет я также возьму данную величину. Т.к. в данных $r^{true} \\in \\{0; 1\\}$, то для расчета приму $pRel(k) = [bought fact]$"
   ]
  },
  {
   "cell_type": "code",
   "execution_count": 14,
   "metadata": {},
   "outputs": [],
   "source": [
    "def plook_at_k(recommended_list, bought_list, k=5):\n",
    "    recommended_list = np.array(recommended_list)[:k]\n",
    "    bought_list = np.array(bought_list)\n",
    "    p_break = 0.15\n",
    "    p_look_i = []\n",
    "    flags = np.isin(recommended_list, bought_list)\n",
    "    p_look_i.append(1)\n",
    "    for i in range(1, k):\n",
    "        p_look_i.append(p_look_i[i-1] * (1-flags[i-1])*(1-p_break)*flags[i])\n",
    "    return sum(p_look_i)"
   ]
  },
  {
   "cell_type": "code",
   "execution_count": 15,
   "metadata": {},
   "outputs": [
    {
     "data": {
      "text/plain": [
       "1.0"
      ]
     },
     "execution_count": 15,
     "metadata": {},
     "output_type": "execute_result"
    }
   ],
   "source": [
    "plook_at_k(recommended_list, bought_list)"
   ]
  },
  {
   "cell_type": "markdown",
   "metadata": {},
   "source": [
    "**2) Доделать все функции, где стоит комментарий \"сделать дома\"**"
   ]
  },
  {
   "cell_type": "markdown",
   "metadata": {},
   "source": [
    "#### HitRate@K"
   ]
  },
  {
   "cell_type": "code",
   "execution_count": 16,
   "metadata": {},
   "outputs": [],
   "source": [
    "def hit_rate_at_k(recommended_list, bought_list, k=5):\n",
    "    recommended_list = np.array(recommended_list)[:k]\n",
    "    bought_list = np.array(bought_list)\n",
    "    \n",
    "    flags = np.isin(bought_list, recommended_list)\n",
    "    return(flags.sum() > 0) * 1"
   ]
  },
  {
   "cell_type": "markdown",
   "metadata": {},
   "source": [
    "$hit\\,rate@3=[1,0,0]=1$"
   ]
  },
  {
   "cell_type": "code",
   "execution_count": 17,
   "metadata": {},
   "outputs": [
    {
     "data": {
      "text/plain": [
       "1"
      ]
     },
     "execution_count": 17,
     "metadata": {},
     "output_type": "execute_result"
    }
   ],
   "source": [
    "hit_rate_at_k(recommended_list, bought_list, k=3)"
   ]
  },
  {
   "cell_type": "markdown",
   "metadata": {},
   "source": [
    "$hit\\,rate@6=[1,0,0,1,0,0]=1$"
   ]
  },
  {
   "cell_type": "code",
   "execution_count": 18,
   "metadata": {},
   "outputs": [
    {
     "data": {
      "text/plain": [
       "1"
      ]
     },
     "execution_count": 18,
     "metadata": {},
     "output_type": "execute_result"
    }
   ],
   "source": [
    "hit_rate_at_k(recommended_list, bought_list, k=6)"
   ]
  },
  {
   "cell_type": "markdown",
   "metadata": {},
   "source": [
    "#### Precision@K"
   ]
  },
  {
   "cell_type": "code",
   "execution_count": 19,
   "metadata": {},
   "outputs": [],
   "source": [
    "def precision_at_k(recommended_list, bought_list, k=5):\n",
    "    recommended_list = np.array(recommended_list)[:k]\n",
    "    bought_list = np.array(bought_list)\n",
    "    \n",
    "    flags = np.isin(bought_list, recommended_list)\n",
    "    return flags.sum() / len(recommended_list)"
   ]
  },
  {
   "cell_type": "markdown",
   "metadata": {},
   "source": [
    "$presicion@3=\\frac{1+0+0}{1+1+1}=\\frac{1}{3}\\approx 0.333$"
   ]
  },
  {
   "cell_type": "code",
   "execution_count": 20,
   "metadata": {},
   "outputs": [
    {
     "data": {
      "text/plain": [
       "0.3333333333333333"
      ]
     },
     "execution_count": 20,
     "metadata": {},
     "output_type": "execute_result"
    }
   ],
   "source": [
    "precision_at_k(recommended_list, bought_list, k=3)"
   ]
  },
  {
   "cell_type": "markdown",
   "metadata": {},
   "source": [
    "$presicion@5=\\frac{1+0+0+1+0}{1+1+1+1+1}=\\frac{5}{5}=0.4$"
   ]
  },
  {
   "cell_type": "code",
   "execution_count": 21,
   "metadata": {},
   "outputs": [
    {
     "data": {
      "text/plain": [
       "0.4"
      ]
     },
     "execution_count": 21,
     "metadata": {},
     "output_type": "execute_result"
    }
   ],
   "source": [
    "precision_at_k(recommended_list, bought_list)"
   ]
  },
  {
   "cell_type": "markdown",
   "metadata": {},
   "source": [
    "#### Recall@K & Money Recall@K"
   ]
  },
  {
   "cell_type": "code",
   "execution_count": 22,
   "metadata": {},
   "outputs": [],
   "source": [
    "prices_recommended = [400, 60, 40, 40, 90, 20, 150, 75, 300, 15]\n",
    "prices_bought = [300, 50, 400, 40]"
   ]
  },
  {
   "cell_type": "code",
   "execution_count": 23,
   "metadata": {},
   "outputs": [],
   "source": [
    "def recall_at_k(recommended_list, bought_list, k=5):\n",
    "    bought_list = np.array(bought_list)\n",
    "    recommended_list = np.array(recommended_list)[:k]\n",
    "    \n",
    "    flags = np.isin(bought_list, recommended_list)\n",
    "    return flags.sum() / len(bought_list)\n",
    "\n",
    "def money_recall_at_k(recommended_list, bought_list, prices_recommended, prices_bought, k=5):\n",
    "    bought_list = np.array(bought_list)\n",
    "    recommended_list = np.array(recommended_list)[:k]\n",
    "    prices_recommended = np.array(prices_recommended)[:k]\n",
    "    prices_bought = np.array(prices_bought)\n",
    "    \n",
    "    flags = np.isin(recommended_list, bought_list)\n",
    "    recall = np.dot(flags, prices_recommended) / prices_bought.sum()\n",
    "    return recall"
   ]
  },
  {
   "cell_type": "markdown",
   "metadata": {},
   "source": [
    "$recall@k=\\frac{1+0+0+1+0+0+0+0+0+0}{1+1+1+1}=\\frac{2}{4}=0.5$"
   ]
  },
  {
   "cell_type": "code",
   "execution_count": 24,
   "metadata": {},
   "outputs": [
    {
     "data": {
      "text/plain": [
       "0.5"
      ]
     },
     "execution_count": 24,
     "metadata": {},
     "output_type": "execute_result"
    }
   ],
   "source": [
    "recall_at_k(recommended_list,bought_list,k=10)"
   ]
  },
  {
   "cell_type": "markdown",
   "metadata": {},
   "source": [
    "$recall@k=\\frac{1\\cdot400+0\\cdot60+0\\cdot40+1\\cdot40+0\\cdot90+0\\cdot20+0\\cdot150+0\\cdot75+0\\cdot300+0\\cdot15}{300+50+400+40}=\\frac{440}{790}\\approx 0.557$"
   ]
  },
  {
   "cell_type": "code",
   "execution_count": 25,
   "metadata": {},
   "outputs": [
    {
     "data": {
      "text/plain": [
       "0.5569620253164557"
      ]
     },
     "execution_count": 25,
     "metadata": {},
     "output_type": "execute_result"
    }
   ],
   "source": [
    "money_recall_at_k(recommended_list, bought_list, prices_recommended, prices_bought, k=10)"
   ]
  },
  {
   "cell_type": "markdown",
   "metadata": {},
   "source": [
    "#### MAP@k"
   ]
  },
  {
   "cell_type": "code",
   "execution_count": 26,
   "metadata": {},
   "outputs": [],
   "source": [
    "def ap_k(recommended_list, bought_list, k=5):\n",
    "    \n",
    "    bought_list = np.array(bought_list)\n",
    "    recommended_list = np.array(recommended_list)[:k]\n",
    "    \n",
    "    relevant_indexes = np.nonzero(np.isin(recommended_list, bought_list))[0]\n",
    "    if len(relevant_indexes) == 0:\n",
    "        return 0\n",
    "    \n",
    "    amount_relevant = len(relevant_indexes)\n",
    "            \n",
    "    sum_ = sum([precision_at_k(recommended_list, bought_list, k=index_relevant+1) for index_relevant in relevant_indexes])\n",
    "    return sum_/amount_relevant"
   ]
  },
  {
   "cell_type": "code",
   "execution_count": 27,
   "metadata": {},
   "outputs": [],
   "source": [
    "recommended_list_3_users = [[143, 156, 1134, 991, 27, 1543, 3345, 533, 11, 43], \n",
    "                    [1134, 533, 14, 4, 15, 1543, 1, 99, 27, 3345],\n",
    "                    [991, 3345, 27, 533, 43, 143, 1543, 156, 1134, 11]\n",
    "                    ]\n",
    "\n",
    "bought_list_3_users = [[521, 32, 143],  # юзер 1\n",
    "                       [143, 156, 991, 43, 11], # юзер 2\n",
    "                       [1,2]] # юзер 3"
   ]
  },
  {
   "cell_type": "code",
   "execution_count": 28,
   "metadata": {},
   "outputs": [],
   "source": [
    "def map_k(recommended_list, bought_list, k=5):\n",
    "    ap_k_list = list(map(lambda x, y: ap_k(x, y, k), recommended_list, bought_list))\n",
    "    result = sum(ap_k_list) / len(bought_list)   \n",
    "    return result"
   ]
  },
  {
   "cell_type": "markdown",
   "metadata": {},
   "source": [
    "$MAP@k=\\frac{1+0+0}{3}\\approx0.333$"
   ]
  },
  {
   "cell_type": "code",
   "execution_count": 29,
   "metadata": {},
   "outputs": [
    {
     "data": {
      "text/plain": [
       "0.3333333333333333"
      ]
     },
     "execution_count": 29,
     "metadata": {},
     "output_type": "execute_result"
    }
   ],
   "source": [
    "map_k(recommended_list_3_users, bought_list_3_users)"
   ]
  },
  {
   "cell_type": "markdown",
   "metadata": {},
   "source": [
    "#### MRR@k"
   ]
  },
  {
   "cell_type": "code",
   "execution_count": 30,
   "metadata": {},
   "outputs": [],
   "source": [
    "def find_rank(recommended_list, bought_list):\n",
    "    recommended_list = np.array(recommended_list)\n",
    "    bought_list = np.array(bought_list)\n",
    "\n",
    "    rank = np.nonzero(np.isin(recommended_list, bought_list))[0]\n",
    "    if len(rank) > 0:\n",
    "        return rank[0] + 1\n",
    "\n",
    "def reciprocal_rank(recommended_list, bought_list, k=1):\n",
    "    rank_list = list(map(lambda x, y: find_rank(x[:k], y), recommended_list, bought_list))\n",
    "    mrr = [1 / rank if rank else 0 for rank in rank_list]\n",
    "    return np.array(mrr).mean()"
   ]
  },
  {
   "cell_type": "code",
   "execution_count": 31,
   "metadata": {},
   "outputs": [
    {
     "data": {
      "text/plain": [
       "0.3333333333333333"
      ]
     },
     "execution_count": 31,
     "metadata": {},
     "output_type": "execute_result"
    }
   ],
   "source": [
    "reciprocal_rank(recommended_list_3_users, bought_list_3_users, k=5)"
   ]
  },
  {
   "cell_type": "markdown",
   "metadata": {},
   "source": [
    "#### NDCG@k"
   ]
  },
  {
   "cell_type": "code",
   "execution_count": 38,
   "metadata": {},
   "outputs": [],
   "source": [
    "def ndcg_at_k(recommended_list, bought_list, k=5):\n",
    "    recommended_list = np.array(recommended_list)[:k]\n",
    "    bought_list = np.array(bought_list)\n",
    "\n",
    "    flags = np.isin(recommended_list, bought_list)\n",
    "    dcg_list = [(flag * 1) / np.log2(i + 2) for i, flag in enumerate(flags)]\n",
    "    dcg = np.array(dcg_list).sum() / k\n",
    "    ideal_dcg_list = [1 / j if j <= 2 else 1 / np.log2(j + 1) for j in range(1, len(flags) + 1)]\n",
    "    ideal_dcg = np.array(ideal_dcg_list).sum() / k\n",
    "    return dcg / ideal_dcg"
   ]
  },
  {
   "cell_type": "code",
   "execution_count": 39,
   "metadata": {},
   "outputs": [
    {
     "data": {
      "text/plain": [
       "0.5077769820926182"
      ]
     },
     "execution_count": 39,
     "metadata": {},
     "output_type": "execute_result"
    }
   ],
   "source": [
    "ndcg_at_k(recommended_list, bought_list)"
   ]
  },
  {
   "cell_type": "code",
   "execution_count": null,
   "metadata": {},
   "outputs": [],
   "source": []
  }
 ],
 "metadata": {
  "hide_input": false,
  "kernelspec": {
   "display_name": "Python 3",
   "language": "python",
   "name": "python3"
  },
  "language_info": {
   "codemirror_mode": {
    "name": "ipython",
    "version": 3
   },
   "file_extension": ".py",
   "mimetype": "text/x-python",
   "name": "python",
   "nbconvert_exporter": "python",
   "pygments_lexer": "ipython3",
   "version": "3.8.5"
  }
 },
 "nbformat": 4,
 "nbformat_minor": 4
}
